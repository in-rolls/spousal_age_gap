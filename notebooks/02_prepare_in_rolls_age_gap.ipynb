{
 "cells": [
  {
   "cell_type": "code",
   "execution_count": 1,
   "metadata": {},
   "outputs": [],
   "source": [
    "import pandas as pd\n",
    "from glob import glob\n",
    "import os"
   ]
  },
  {
   "cell_type": "code",
   "execution_count": 2,
   "metadata": {},
   "outputs": [
    {
     "name": "stdout",
     "output_type": "stream",
     "text": [
      "andaman Index(['id', 'elector_name', 'father_or_husband_name', 'has_husband',\n",
      "       'house_no', 'age', 'sex', 'year', 'polling_station_name', 'change',\n",
      "       'state'],\n",
      "      dtype='object')\n",
      "arunachal Index(['id', 'elector_name', 'father_or_husband_name', 'has_husband',\n",
      "       'house_no', 'age', 'sex', 'year', 'polling_station_name', 'change',\n",
      "       'state'],\n",
      "      dtype='object')\n",
      "dadra Index(['id', 'elector_name', 'father_or_husband_name', 'has_husband',\n",
      "       'house_no', 'age', 'sex', 'year', 'polling_station_name', 'change',\n",
      "       'state'],\n",
      "      dtype='object')\n",
      "daman Index(['id', 'elector_name', 'father_or_husband_name', 'has_husband',\n",
      "       'house_no', 'age', 'sex', 'year', 'polling_station_name', 'change',\n",
      "       'state'],\n",
      "      dtype='object')\n",
      "goa Index(['id', 'elector_name', 'father_or_husband_name', 'has_husband',\n",
      "       'house_no', 'age', 'sex', 'year', 'polling_station_name', 'change',\n",
      "       'state'],\n",
      "      dtype='object')\n",
      "jk Index(['id', 'elector_name', 'father_or_husband_name', 'has_husband',\n",
      "       'house_no', 'age', 'sex', 'year', 'polling_station_name', 'change',\n",
      "       'state'],\n",
      "      dtype='object')\n",
      "manipur Index(['id', 'elector_name', 'father_or_husband_name', 'has_husband',\n",
      "       'house_no', 'age', 'sex', 'year', 'polling_station_name', 'change',\n",
      "       'state'],\n",
      "      dtype='object')\n",
      "meghalaya Index(['id', 'elector_name', 'father_or_husband_name', 'has_husband',\n",
      "       'house_no', 'age', 'sex', 'year', 'polling_station_name', 'change',\n",
      "       'state'],\n",
      "      dtype='object')\n",
      "mizoram Index(['id', 'elector_name', 'father_or_husband_name', 'has_husband',\n",
      "       'house_no', 'age', 'sex', 'year', 'polling_station_name', 'change',\n",
      "       'state'],\n",
      "      dtype='object')\n",
      "nagaland Index(['id', 'elector_name', 'father_or_husband_name', 'has_husband',\n",
      "       'house_no', 'age', 'sex', 'year', 'polling_station_name', 'change',\n",
      "       'state'],\n",
      "      dtype='object')\n",
      "puducherry Index(['id', 'elector_name', 'father_or_husband_name', 'has_husband',\n",
      "       'house_no', 'age', 'sex', 'year', 'polling_station_name', 'change',\n",
      "       'state'],\n",
      "      dtype='object')\n"
     ]
    }
   ],
   "source": [
    "for fn in sorted(glob('/opt/data/in_rolls/raw/*.tab')):\n",
    "    bfn = os.path.basename(fn)\n",
    "    state = bfn.split('.')[0].split('-')[0]\n",
    "    df = pd.read_csv(fn, sep='\\t', usecols=['elector_name', 'age', 'sex', 'year', 'has_husband', 'father_or_husband_name', 'id', 'house_no', 'polling_station_name', 'change'], dtype=str)\n",
    "    df['state'] = state\n",
    "    print(state, df.columns)\n",
    "    df.to_csv('/opt/data/in_rolls/age_gap/%s.csv' % state , index=False)"
   ]
  },
  {
   "cell_type": "code",
   "execution_count": 11,
   "metadata": {},
   "outputs": [
    {
     "name": "stdout",
     "output_type": "stream",
     "text": [
      "andhra Index(['id', 'elector_name', 'father_or_husband_name', 'has_husband',\n",
      "       'house_no', 'age', 'sex', 'year', 'polling_station_name', 'change',\n",
      "       'state'],\n",
      "      dtype='object')\n",
      "andhra Index(['id', 'elector_name', 'father_or_husband_name', 'has_husband',\n",
      "       'house_no', 'age', 'sex', 'year', 'polling_station_name', 'change',\n",
      "       'state'],\n",
      "      dtype='object')\n",
      "andhra Index(['id', 'elector_name', 'father_or_husband_name', 'has_husband',\n",
      "       'house_no', 'age', 'sex', 'year', 'polling_station_name', 'change',\n",
      "       'state'],\n",
      "      dtype='object')\n",
      "andhra Index(['id', 'elector_name', 'father_or_husband_name', 'has_husband',\n",
      "       'house_no', 'age', 'sex', 'year', 'polling_station_name', 'change',\n",
      "       'state'],\n",
      "      dtype='object')\n",
      "andhra Index(['id', 'elector_name', 'father_or_husband_name', 'has_husband',\n",
      "       'house_no', 'age', 'sex', 'year', 'polling_station_name', 'change',\n",
      "       'state'],\n",
      "      dtype='object')\n",
      "andhra Index(['id', 'elector_name', 'father_or_husband_name', 'has_husband',\n",
      "       'house_no', 'age', 'sex', 'year', 'polling_station_name', 'change',\n",
      "       'state'],\n",
      "      dtype='object')\n",
      "andhra Index(['id', 'elector_name', 'father_or_husband_name', 'has_husband',\n",
      "       'house_no', 'age', 'sex', 'year', 'polling_station_name', 'change',\n",
      "       'state'],\n",
      "      dtype='object')\n"
     ]
    }
   ],
   "source": [
    "adf = None\n",
    "for fn in sorted(glob('/opt/data/in_rolls/raw/andhra/*.csv')):\n",
    "    bfn = os.path.basename(fn)\n",
    "    state = bfn.split('.')[0].split('-')[0]\n",
    "    df = pd.read_csv(fn, usecols=['elector_name', 'age', 'sex', 'year', 'has_husband', 'father_or_husband_name', 'id', 'house_no', 'polling_station_name', 'change'], dtype=str)\n",
    "    df['state'] = state.split('/')[0]\n",
    "    if adf is None:\n",
    "        adf = df\n",
    "    else:\n",
    "        adf = pd.concat([adf, df])\n",
    "    print(state, df.columns)\n",
    "adf.to_csv('/opt/data/in_rolls/age_gap/%s.csv' % state , index=False)"
   ]
  },
  {
   "cell_type": "code",
   "execution_count": 9,
   "metadata": {},
   "outputs": [
    {
     "name": "stdout",
     "output_type": "stream",
     "text": [
      "/opt/data/in_rolls/age_gap/andaman.csv\n",
      "/opt/data/in_rolls/age_gap/andhra.csv\n",
      "/opt/data/in_rolls/age_gap/arunachal.csv\n",
      "/opt/data/in_rolls/age_gap/dadra.csv\n",
      "/opt/data/in_rolls/age_gap/daman.csv\n",
      "/opt/data/in_rolls/age_gap/goa.csv\n",
      "/opt/data/in_rolls/age_gap/jk.csv\n",
      "/opt/data/in_rolls/age_gap/manipur.csv\n",
      "/opt/data/in_rolls/age_gap/meghalaya.csv\n",
      "/opt/data/in_rolls/age_gap/mizoram.csv\n",
      "/opt/data/in_rolls/age_gap/nagaland.csv\n",
      "/opt/data/in_rolls/age_gap/puducherry.csv\n"
     ]
    }
   ],
   "source": [
    "for fn in sorted(glob('/opt/data/in_rolls/age_gap/*.csv')):\n",
    "    print(fn)"
   ]
  },
  {
   "cell_type": "code",
   "execution_count": null,
   "metadata": {},
   "outputs": [],
   "source": []
  }
 ],
 "metadata": {
  "kernelspec": {
   "display_name": "Python 3",
   "language": "python",
   "name": "python3"
  },
  "language_info": {
   "codemirror_mode": {
    "name": "ipython",
    "version": 3
   },
   "file_extension": ".py",
   "mimetype": "text/x-python",
   "name": "python",
   "nbconvert_exporter": "python",
   "pygments_lexer": "ipython3",
   "version": "3.7.7"
  }
 },
 "nbformat": 4,
 "nbformat_minor": 2
}
