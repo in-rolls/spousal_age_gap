{
 "cells": [
  {
   "cell_type": "code",
   "execution_count": 1,
   "metadata": {
    "execution": {
     "iopub.execute_input": "2021-08-09T09:33:42.230497Z",
     "iopub.status.busy": "2021-08-09T09:33:42.229734Z",
     "iopub.status.idle": "2021-08-09T09:33:42.507664Z",
     "shell.execute_reply": "2021-08-09T09:33:42.508108Z"
    }
   },
   "outputs": [],
   "source": [
    "from glob import glob\n",
    "\n",
    "from pyDataverse.api import Api\n",
    "from pyDataverse.models import Dataverse"
   ]
  },
  {
   "cell_type": "code",
   "execution_count": 2,
   "metadata": {
    "execution": {
     "iopub.execute_input": "2021-08-09T09:33:42.513388Z",
     "iopub.status.busy": "2021-08-09T09:33:42.512615Z",
     "iopub.status.idle": "2021-08-09T09:33:42.515058Z",
     "shell.execute_reply": "2021-08-09T09:33:42.514395Z"
    }
   },
   "outputs": [],
   "source": [
    "# Dataverse API Token\n",
    "# https://dataverse.harvard.edu/dataverseuser.xhtml?selectTab=apiTokenTab\n",
    "host = 'https://dataverse.harvard.edu'\n",
    "token = '<API TOKEN>'\n",
    "doi = 'doi:10.7910/DVN/GFSVY8'"
   ]
  },
  {
   "cell_type": "code",
   "execution_count": 3,
   "metadata": {
    "execution": {
     "iopub.execute_input": "2021-08-09T09:33:42.519160Z",
     "iopub.status.busy": "2021-08-09T09:33:42.518607Z",
     "iopub.status.idle": "2021-08-09T09:33:42.673144Z",
     "shell.execute_reply": "2021-08-09T09:33:42.673650Z"
    }
   },
   "outputs": [
    {
     "data": {
      "text/plain": [
       "'OK'"
      ]
     },
     "execution_count": 1,
     "metadata": {},
     "output_type": "execute_result"
    }
   ],
   "source": [
    "api = Api('https://dataverse.harvard.edu/', token)\n",
    "api.status"
   ]
  },
  {
   "cell_type": "code",
   "execution_count": 4,
   "metadata": {
    "execution": {
     "iopub.execute_input": "2021-08-09T09:33:42.680988Z",
     "iopub.status.busy": "2021-08-09T09:33:42.680342Z",
     "iopub.status.idle": "2021-08-09T09:33:43.015637Z",
     "shell.execute_reply": "2021-08-09T09:33:43.016182Z"
    }
   },
   "outputs": [
    {
     "data": {
      "text/plain": [
       "{'status': 'OK',\n",
       " 'data': {'id': 3732651,\n",
       "  'identifier': 'DVN/GFSVY8',\n",
       "  'persistentUrl': 'https://doi.org/10.7910/DVN/GFSVY8',\n",
       "  'protocol': 'doi',\n",
       "  'authority': '10.7910',\n",
       "  'publisher': 'Harvard Dataverse',\n",
       "  'publicationDate': '2020-02-22',\n",
       "  'storageIdentifier': 's3://10.7910/DVN/GFSVY8',\n",
       "  'latestVersion': {'id': 187560,\n",
       "   'datasetId': 3732651,\n",
       "   'datasetPersistentId': 'doi:10.7910/DVN/GFSVY8',\n",
       "   'storageIdentifier': 's3://10.7910/DVN/GFSVY8',\n",
       "   'versionNumber': 1,\n",
       "   'versionMinorNumber': 0,\n",
       "   'versionState': 'RELEASED',\n",
       "   'lastUpdateTime': '2020-02-22T21:23:01Z',\n",
       "   'releaseTime': '2020-02-22T21:23:01Z',\n",
       "   'createTime': '2020-02-20T04:21:32Z',\n",
       "   'license': 'CC0',\n",
       "   'termsOfUse': 'CC0 Waiver',\n",
       "   'termsOfAccess': 'For researchers only.',\n",
       "   'fileAccessRequest': True,\n",
       "   'metadataBlocks': {'citation': {'displayName': 'Citation Metadata',\n",
       "     'fields': [{'typeName': 'title',\n",
       "       'multiple': False,\n",
       "       'typeClass': 'primitive',\n",
       "       'value': 'Spousal Age Gap Replication Data'},\n",
       "      {'typeName': 'author',\n",
       "       'multiple': True,\n",
       "       'typeClass': 'compound',\n",
       "       'value': [{'authorName': {'typeName': 'authorName',\n",
       "          'multiple': False,\n",
       "          'typeClass': 'primitive',\n",
       "          'value': 'Sood, Gaurav'}}]},\n",
       "      {'typeName': 'datasetContact',\n",
       "       'multiple': True,\n",
       "       'typeClass': 'compound',\n",
       "       'value': [{'datasetContactName': {'typeName': 'datasetContactName',\n",
       "          'multiple': False,\n",
       "          'typeClass': 'primitive',\n",
       "          'value': 'Sood, Gaurav'},\n",
       "         'datasetContactEmail': {'typeName': 'datasetContactEmail',\n",
       "          'multiple': False,\n",
       "          'typeClass': 'primitive',\n",
       "          'value': 'gsood07@gmail.com'}}]},\n",
       "      {'typeName': 'dsDescription',\n",
       "       'multiple': True,\n",
       "       'typeClass': 'compound',\n",
       "       'value': [{'dsDescriptionValue': {'typeName': 'dsDescriptionValue',\n",
       "          'multiple': False,\n",
       "          'typeClass': 'primitive',\n",
       "          'value': 'Replication data for: https://github.com/soodoku/spousal_age_gap'}}]},\n",
       "      {'typeName': 'subject',\n",
       "       'multiple': True,\n",
       "       'typeClass': 'controlledVocabulary',\n",
       "       'value': ['Social Sciences']},\n",
       "      {'typeName': 'depositor',\n",
       "       'multiple': False,\n",
       "       'typeClass': 'primitive',\n",
       "       'value': 'Sood, Gaurav'},\n",
       "      {'typeName': 'dateOfDeposit',\n",
       "       'multiple': False,\n",
       "       'typeClass': 'primitive',\n",
       "       'value': '2020-02-19'}]}},\n",
       "   'files': [{'description': '',\n",
       "     'label': 'in_rolls_spousal_age_gap.tar.gz',\n",
       "     'restricted': True,\n",
       "     'version': 2,\n",
       "     'datasetVersionId': 187560,\n",
       "     'dataFile': {'id': 3733223,\n",
       "      'persistentId': 'doi:10.7910/DVN/GFSVY8/WIEKRU',\n",
       "      'pidURL': 'https://doi.org/10.7910/DVN/GFSVY8/WIEKRU',\n",
       "      'filename': 'in_rolls_spousal_age_gap.tar.gz',\n",
       "      'contentType': 'application/gzip',\n",
       "      'filesize': 744743687,\n",
       "      'description': '',\n",
       "      'storageIdentifier': 's3://dvn-cloud:17066ad4513-751909124485',\n",
       "      'rootDataFileId': -1,\n",
       "      'md5': '88d1fd5231509932e9d7dda78cc2626f',\n",
       "      'checksum': {'type': 'MD5', 'value': '88d1fd5231509932e9d7dda78cc2626f'},\n",
       "      'creationDate': '2020-02-21'}}]}}}"
      ]
     },
     "execution_count": 1,
     "metadata": {},
     "output_type": "execute_result"
    }
   ],
   "source": [
    "resp = api.get_dataset(doi)\n",
    "resp.json()"
   ]
  },
  {
   "cell_type": "code",
   "execution_count": 5,
   "metadata": {
    "execution": {
     "iopub.execute_input": "2021-08-09T09:33:43.023378Z",
     "iopub.status.busy": "2021-08-09T09:33:43.022802Z",
     "iopub.status.idle": "2021-08-09T09:33:43.032854Z",
     "shell.execute_reply": "2021-08-09T09:33:43.032268Z"
    }
   },
   "outputs": [
    {
     "data": {
      "text/plain": [
       "['../finding-couples/output/andaman_exact_match_lev_0.csv.gz',\n",
       " '../finding-couples/output/andhra_exact_match_lev_0.csv.gz',\n",
       " '../finding-couples/output/arunachal_exact_match_lev_0.csv.gz',\n",
       " '../finding-couples/output/assam_exact_match_lev_0.csv.gz',\n",
       " '../finding-couples/output/bihar_exact_match_lev_0.csv.gz',\n",
       " '../finding-couples/output/chandigarh_exact_match_lev_0.csv.gz',\n",
       " '../finding-couples/output/dadra_exact_match_lev_0.csv.gz',\n",
       " '../finding-couples/output/daman_exact_match_lev_0.csv.gz',\n",
       " '../finding-couples/output/goa_exact_match_lev_0.csv.gz',\n",
       " '../finding-couples/output/gujarat_exact_match_lev_0.csv.gz',\n",
       " '../finding-couples/output/haryana_exact_match_lev_0.csv.gz',\n",
       " '../finding-couples/output/himachal_exact_match_lev_0.csv.gz',\n",
       " '../finding-couples/output/jharkhand_exact_match_lev_0.csv.gz',\n",
       " '../finding-couples/output/jk_exact_match_lev_0.csv.gz',\n",
       " '../finding-couples/output/karnataka_exact_match_lev_0.csv.gz',\n",
       " '../finding-couples/output/kerala_exact_match_lev_0.csv.gz',\n",
       " '../finding-couples/output/maharastra_exact_match_lev_0.csv.gz',\n",
       " '../finding-couples/output/manipur_exact_match_lev_0.csv.gz',\n",
       " '../finding-couples/output/meghalaya_exact_match_lev_0.csv.gz',\n",
       " '../finding-couples/output/mizoram_exact_match_lev_0.csv.gz',\n",
       " '../finding-couples/output/mp_exact_match_lev_0.csv.gz',\n",
       " '../finding-couples/output/nagaland_exact_match_lev_0.csv.gz',\n",
       " '../finding-couples/output/odisha_exact_match_lev_0.csv.gz',\n",
       " '../finding-couples/output/puducherry_exact_match_lev_0.csv.gz',\n",
       " '../finding-couples/output/punjab_exact_match_lev_0.csv.gz',\n",
       " '../finding-couples/output/rajasthan_exact_match_lev_0.csv.gz',\n",
       " '../finding-couples/output/sikkim_exact_match_lev_0.csv.gz',\n",
       " '../finding-couples/output/tripura_exact_match_lev_0.csv.gz',\n",
       " '../finding-couples/output/up_exact_match_lev_0.csv.gz',\n",
       " '../finding-couples/output/uttarakhand_exact_match_lev_0.csv.gz']"
      ]
     },
     "execution_count": 1,
     "metadata": {},
     "output_type": "execute_result"
    }
   ],
   "source": [
    "fns = sorted(glob('../finding-couples/output/*_exact_match_lev_0.*'))\n",
    "fns"
   ]
  },
  {
   "cell_type": "code",
   "execution_count": 6,
   "metadata": {
    "execution": {
     "iopub.execute_input": "2021-08-09T09:33:43.037998Z",
     "iopub.status.busy": "2021-08-09T09:33:43.037375Z",
     "iopub.status.idle": "2021-08-09T09:35:30.659877Z",
     "shell.execute_reply": "2021-08-09T09:35:30.660431Z"
    }
   },
   "outputs": [
    {
     "name": "stdout",
     "output_type": "stream",
     "text": [
      "../finding-couples/output/andaman_exact_match_lev_0.csv.gz\n",
      "{'status': 'OK', 'data': {'files': [{'description': '', 'label': 'andaman_exact_match_lev_0.csv.gz', 'restricted': False, 'version': 1, 'datasetVersionId': 262173, 'dataFile': {'id': 4967308, 'persistentId': '', 'pidURL': '', 'filename': 'andaman_exact_match_lev_0.csv.gz', 'contentType': 'application/gzip', 'filesize': 937514, 'description': '', 'storageIdentifier': 's3://dvn-cloud:17b2a42c2c4-2981c8b6375d', 'rootDataFileId': -1, 'md5': 'c1f9edff70ebd4d634af038947061e5a', 'checksum': {'type': 'MD5', 'value': 'c1f9edff70ebd4d634af038947061e5a'}, 'creationDate': '2021-08-09'}}]}}\n",
      "../finding-couples/output/andhra_exact_match_lev_0.csv.gz\n",
      "{'status': 'OK', 'data': {'files': [{'description': '', 'label': 'andhra_exact_match_lev_0.csv.gz', 'restricted': False, 'version': 1, 'datasetVersionId': 262173, 'dataFile': {'id': 4967309, 'persistentId': '', 'pidURL': '', 'filename': 'andhra_exact_match_lev_0.csv.gz', 'contentType': 'application/gzip', 'filesize': 34442840, 'description': '', 'storageIdentifier': 's3://dvn-cloud:17b2a42cb57-8b9e19230a08', 'rootDataFileId': -1, 'md5': '1f234c55f980f5b4abae766da7e9a308', 'checksum': {'type': 'MD5', 'value': '1f234c55f980f5b4abae766da7e9a308'}, 'creationDate': '2021-08-09'}}]}}\n",
      "../finding-couples/output/arunachal_exact_match_lev_0.csv.gz\n",
      "{'status': 'OK', 'data': {'files': [{'description': '', 'label': 'arunachal_exact_match_lev_0.csv.gz', 'restricted': False, 'version': 1, 'datasetVersionId': 262173, 'dataFile': {'id': 4967310, 'persistentId': '', 'pidURL': '', 'filename': 'arunachal_exact_match_lev_0.csv.gz', 'contentType': 'application/gzip', 'filesize': 3326056, 'description': '', 'storageIdentifier': 's3://dvn-cloud:17b2a42d2cf-9109fe58193c', 'rootDataFileId': -1, 'md5': '0c82e732c2988b93445464198e42267f', 'checksum': {'type': 'MD5', 'value': '0c82e732c2988b93445464198e42267f'}, 'creationDate': '2021-08-09'}}]}}\n",
      "../finding-couples/output/assam_exact_match_lev_0.csv.gz\n",
      "{'status': 'OK', 'data': {'files': [{'description': '', 'label': 'assam_exact_match_lev_0.csv.gz', 'restricted': False, 'version': 1, 'datasetVersionId': 262173, 'dataFile': {'id': 4967311, 'persistentId': '', 'pidURL': '', 'filename': 'assam_exact_match_lev_0.csv.gz', 'contentType': 'application/gzip', 'filesize': 5222821, 'description': '', 'storageIdentifier': 's3://dvn-cloud:17b2a42d920-c1b2f24b260c', 'rootDataFileId': -1, 'md5': '52cade0b521d93361f6ec38e4fdd4e48', 'checksum': {'type': 'MD5', 'value': '52cade0b521d93361f6ec38e4fdd4e48'}, 'creationDate': '2021-08-09'}}]}}\n",
      "../finding-couples/output/bihar_exact_match_lev_0.csv.gz\n",
      "{'status': 'OK', 'data': {'files': [{'description': '', 'label': 'bihar_exact_match_lev_0.csv.gz', 'restricted': False, 'version': 1, 'datasetVersionId': 262173, 'dataFile': {'id': 4967312, 'persistentId': '', 'pidURL': '', 'filename': 'bihar_exact_match_lev_0.csv.gz', 'contentType': 'application/gzip', 'filesize': 284669796, 'description': '', 'storageIdentifier': 's3://dvn-cloud:17b2a42f727-6c1554d27fda', 'rootDataFileId': -1, 'md5': '3cabdaa72381c38c9d70fae0f323f4ff', 'checksum': {'type': 'MD5', 'value': '3cabdaa72381c38c9d70fae0f323f4ff'}, 'creationDate': '2021-08-09'}}]}}\n",
      "../finding-couples/output/chandigarh_exact_match_lev_0.csv.gz\n",
      "{'status': 'OK', 'data': {'files': [{'description': '', 'label': 'chandigarh_exact_match_lev_0.csv.gz', 'restricted': False, 'version': 1, 'datasetVersionId': 262173, 'dataFile': {'id': 4967313, 'persistentId': '', 'pidURL': '', 'filename': 'chandigarh_exact_match_lev_0.csv.gz', 'contentType': 'application/gzip', 'filesize': 2793800, 'description': '', 'storageIdentifier': 's3://dvn-cloud:17b2a430a20-5d14350d9680', 'rootDataFileId': -1, 'md5': '14470ff07ec5ea64431a61cbaeb2ed51', 'checksum': {'type': 'MD5', 'value': '14470ff07ec5ea64431a61cbaeb2ed51'}, 'creationDate': '2021-08-09'}}]}}\n",
      "../finding-couples/output/dadra_exact_match_lev_0.csv.gz\n",
      "{'status': 'OK', 'data': {'files': [{'description': '', 'label': 'dadra_exact_match_lev_0.csv.gz', 'restricted': False, 'version': 1, 'datasetVersionId': 262173, 'dataFile': {'id': 4967314, 'persistentId': '', 'pidURL': '', 'filename': 'dadra_exact_match_lev_0.csv.gz', 'contentType': 'application/gzip', 'filesize': 327629, 'description': '', 'storageIdentifier': 's3://dvn-cloud:17b2a430fe4-09ecb8711f1b', 'rootDataFileId': -1, 'md5': 'e7146f15215a4126961b67515e5117ff', 'checksum': {'type': 'MD5', 'value': 'e7146f15215a4126961b67515e5117ff'}, 'creationDate': '2021-08-09'}}]}}\n",
      "../finding-couples/output/daman_exact_match_lev_0.csv.gz\n",
      "{'status': 'OK', 'data': {'files': [{'description': '', 'label': 'daman_exact_match_lev_0.csv.gz', 'restricted': False, 'version': 1, 'datasetVersionId': 262173, 'dataFile': {'id': 4967315, 'persistentId': '', 'pidURL': '', 'filename': 'daman_exact_match_lev_0.csv.gz', 'contentType': 'application/gzip', 'filesize': 122735, 'description': '', 'storageIdentifier': 's3://dvn-cloud:17b2a4315c6-440965553fdf', 'rootDataFileId': -1, 'md5': 'c2a76b7eeecd00d5cafc93ba5a35c0b3', 'checksum': {'type': 'MD5', 'value': 'c2a76b7eeecd00d5cafc93ba5a35c0b3'}, 'creationDate': '2021-08-09'}}]}}\n",
      "../finding-couples/output/goa_exact_match_lev_0.csv.gz\n",
      "{'status': 'OK', 'data': {'files': [{'description': '', 'label': 'goa_exact_match_lev_0.csv.gz', 'restricted': False, 'version': 1, 'datasetVersionId': 262173, 'dataFile': {'id': 4967316, 'persistentId': '', 'pidURL': '', 'filename': 'goa_exact_match_lev_0.csv.gz', 'contentType': 'application/gzip', 'filesize': 4952689, 'description': '', 'storageIdentifier': 's3://dvn-cloud:17b2a431ba0-fbf397f258fd', 'rootDataFileId': -1, 'md5': '7b1f6f374796640fbc34909ea27550eb', 'checksum': {'type': 'MD5', 'value': '7b1f6f374796640fbc34909ea27550eb'}, 'creationDate': '2021-08-09'}}]}}\n",
      "../finding-couples/output/gujarat_exact_match_lev_0.csv.gz\n",
      "{'status': 'OK', 'data': {'files': [{'description': '', 'label': 'gujarat_exact_match_lev_0.csv.gz', 'restricted': False, 'version': 1, 'datasetVersionId': 262173, 'dataFile': {'id': 4967317, 'persistentId': '', 'pidURL': '', 'filename': 'gujarat_exact_match_lev_0.csv.gz', 'contentType': 'application/gzip', 'filesize': 104944, 'description': '', 'storageIdentifier': 's3://dvn-cloud:17b2a432195-703c86d61b26', 'rootDataFileId': -1, 'md5': '8eea96dd8ff491b335abb933c7e2d897', 'checksum': {'type': 'MD5', 'value': '8eea96dd8ff491b335abb933c7e2d897'}, 'creationDate': '2021-08-09'}}]}}\n",
      "../finding-couples/output/haryana_exact_match_lev_0.csv.gz\n",
      "{'status': 'OK', 'data': {'files': [{'description': '', 'label': 'haryana_exact_match_lev_0.csv.gz', 'restricted': False, 'version': 1, 'datasetVersionId': 262173, 'dataFile': {'id': 4967318, 'persistentId': '', 'pidURL': '', 'filename': 'haryana_exact_match_lev_0.csv.gz', 'contentType': 'application/gzip', 'filesize': 73568580, 'description': '', 'storageIdentifier': 's3://dvn-cloud:17b2a432e4a-f0dbf15f41d6', 'rootDataFileId': -1, 'md5': '8dd7db93e2285babe49045ea9de4259e', 'checksum': {'type': 'MD5', 'value': '8dd7db93e2285babe49045ea9de4259e'}, 'creationDate': '2021-08-09'}}]}}\n",
      "../finding-couples/output/himachal_exact_match_lev_0.csv.gz\n",
      "{'status': 'OK', 'data': {'files': [{'description': '', 'label': 'himachal_exact_match_lev_0.csv.gz', 'restricted': False, 'version': 1, 'datasetVersionId': 262173, 'dataFile': {'id': 4967319, 'persistentId': '', 'pidURL': '', 'filename': 'himachal_exact_match_lev_0.csv.gz', 'contentType': 'application/gzip', 'filesize': 16023333, 'description': '', 'storageIdentifier': 's3://dvn-cloud:17b2a4338c8-cf3bdf6ef33e', 'rootDataFileId': -1, 'md5': '90b18e86ed57881c63c5bfad29f2861d', 'checksum': {'type': 'MD5', 'value': '90b18e86ed57881c63c5bfad29f2861d'}, 'creationDate': '2021-08-09'}}]}}\n",
      "../finding-couples/output/jharkhand_exact_match_lev_0.csv.gz\n",
      "{'status': 'OK', 'data': {'files': [{'description': '', 'label': 'jharkhand_exact_match_lev_0.csv.gz', 'restricted': False, 'version': 1, 'datasetVersionId': 262173, 'dataFile': {'id': 4967320, 'persistentId': '', 'pidURL': '', 'filename': 'jharkhand_exact_match_lev_0.csv.gz', 'contentType': 'application/gzip', 'filesize': 81369342, 'description': '', 'storageIdentifier': 's3://dvn-cloud:17b2a434709-42c37f72ca20', 'rootDataFileId': -1, 'md5': '71fd5bb58840bbc91fd83dc4a13fbc98', 'checksum': {'type': 'MD5', 'value': '71fd5bb58840bbc91fd83dc4a13fbc98'}, 'creationDate': '2021-08-09'}}]}}\n",
      "../finding-couples/output/jk_exact_match_lev_0.csv.gz\n",
      "{'status': 'OK', 'data': {'files': [{'description': '', 'label': 'jk_exact_match_lev_0.csv.gz', 'restricted': False, 'version': 1, 'datasetVersionId': 262173, 'dataFile': {'id': 4967321, 'persistentId': '', 'pidURL': '', 'filename': 'jk_exact_match_lev_0.csv.gz', 'contentType': 'application/gzip', 'filesize': 605724, 'description': '', 'storageIdentifier': 's3://dvn-cloud:17b2a434fd4-e6f6b5b2afbd', 'rootDataFileId': -1, 'md5': 'df6f532ffb704cc3568aa542725d5c8a', 'checksum': {'type': 'MD5', 'value': 'df6f532ffb704cc3568aa542725d5c8a'}, 'creationDate': '2021-08-09'}}]}}\n",
      "../finding-couples/output/karnataka_exact_match_lev_0.csv.gz\n",
      "{'status': 'OK', 'data': {'files': [{'description': '', 'label': 'karnataka_exact_match_lev_0.csv.gz', 'restricted': False, 'version': 1, 'datasetVersionId': 262173, 'dataFile': {'id': 4967322, 'persistentId': '', 'pidURL': '', 'filename': 'karnataka_exact_match_lev_0.csv.gz', 'contentType': 'application/gzip', 'filesize': 6060356, 'description': '', 'storageIdentifier': 's3://dvn-cloud:17b2a435663-cfb89f50a6b3', 'rootDataFileId': -1, 'md5': '48ca269f5821709559a65ce28d8577e6', 'checksum': {'type': 'MD5', 'value': '48ca269f5821709559a65ce28d8577e6'}, 'creationDate': '2021-08-09'}}]}}\n",
      "../finding-couples/output/kerala_exact_match_lev_0.csv.gz\n",
      "{'status': 'OK', 'data': {'files': [{'description': '', 'label': 'kerala_exact_match_lev_0.csv.gz', 'restricted': False, 'version': 1, 'datasetVersionId': 262173, 'dataFile': {'id': 4967323, 'persistentId': '', 'pidURL': '', 'filename': 'kerala_exact_match_lev_0.csv.gz', 'contentType': 'application/gzip', 'filesize': 51255427, 'description': '', 'storageIdentifier': 's3://dvn-cloud:17b2a436142-edb790d2b324', 'rootDataFileId': -1, 'md5': '77e61a84f5993ca5ce5f52115ccacc93', 'checksum': {'type': 'MD5', 'value': '77e61a84f5993ca5ce5f52115ccacc93'}, 'creationDate': '2021-08-09'}}]}}\n",
      "../finding-couples/output/maharastra_exact_match_lev_0.csv.gz\n",
      "{'status': 'OK', 'data': {'files': [{'description': '', 'label': 'maharastra_exact_match_lev_0.csv.gz', 'restricted': False, 'version': 1, 'datasetVersionId': 262173, 'dataFile': {'id': 4967324, 'persistentId': '', 'pidURL': '', 'filename': 'maharastra_exact_match_lev_0.csv.gz', 'contentType': 'application/gzip', 'filesize': 86059852, 'description': '', 'storageIdentifier': 's3://dvn-cloud:17b2a437175-3e627e638097', 'rootDataFileId': -1, 'md5': '1b58d3abf056cda28a973a31f0d3c255', 'checksum': {'type': 'MD5', 'value': '1b58d3abf056cda28a973a31f0d3c255'}, 'creationDate': '2021-08-09'}}]}}\n",
      "../finding-couples/output/manipur_exact_match_lev_0.csv.gz\n",
      "{'status': 'OK', 'data': {'files': [{'description': '', 'label': 'manipur_exact_match_lev_0.csv.gz', 'restricted': False, 'version': 1, 'datasetVersionId': 262173, 'dataFile': {'id': 4967325, 'persistentId': '', 'pidURL': '', 'filename': 'manipur_exact_match_lev_0.csv.gz', 'contentType': 'application/gzip', 'filesize': 8401375, 'description': '', 'storageIdentifier': 's3://dvn-cloud:17b2a437b81-c171550174e8', 'rootDataFileId': -1, 'md5': '9dafe02bb79f9d2ea1e65c0368ecd8aa', 'checksum': {'type': 'MD5', 'value': '9dafe02bb79f9d2ea1e65c0368ecd8aa'}, 'creationDate': '2021-08-09'}}]}}\n",
      "../finding-couples/output/meghalaya_exact_match_lev_0.csv.gz\n",
      "{'status': 'OK', 'data': {'files': [{'description': '', 'label': 'meghalaya_exact_match_lev_0.csv.gz', 'restricted': False, 'version': 1, 'datasetVersionId': 262173, 'dataFile': {'id': 4967326, 'persistentId': '', 'pidURL': '', 'filename': 'meghalaya_exact_match_lev_0.csv.gz', 'contentType': 'application/gzip', 'filesize': 2835663, 'description': '', 'storageIdentifier': 's3://dvn-cloud:17b2a4382fb-1d55b5cb78ae', 'rootDataFileId': -1, 'md5': '886a904a84aa4cd2bc7376b07b4247cd', 'checksum': {'type': 'MD5', 'value': '886a904a84aa4cd2bc7376b07b4247cd'}, 'creationDate': '2021-08-09'}}]}}\n",
      "../finding-couples/output/mizoram_exact_match_lev_0.csv.gz\n",
      "{'status': 'OK', 'data': {'files': [{'description': '', 'label': 'mizoram_exact_match_lev_0.csv.gz', 'restricted': False, 'version': 1, 'datasetVersionId': 262173, 'dataFile': {'id': 4967327, 'persistentId': '', 'pidURL': '', 'filename': 'mizoram_exact_match_lev_0.csv.gz', 'contentType': 'application/gzip', 'filesize': 3252418, 'description': '', 'storageIdentifier': 's3://dvn-cloud:17b2a438a6a-5f3edb7cb657', 'rootDataFileId': -1, 'md5': '14999ede87b146b78ca78917fbce113a', 'checksum': {'type': 'MD5', 'value': '14999ede87b146b78ca78917fbce113a'}, 'creationDate': '2021-08-09'}}]}}\n",
      "../finding-couples/output/mp_exact_match_lev_0.csv.gz\n",
      "{'status': 'OK', 'data': {'files': [{'description': '', 'label': 'mp_exact_match_lev_0.csv.gz', 'restricted': False, 'version': 1, 'datasetVersionId': 262173, 'dataFile': {'id': 4967328, 'persistentId': '', 'pidURL': '', 'filename': 'mp_exact_match_lev_0.csv.gz', 'contentType': 'application/gzip', 'filesize': 192651467, 'description': '', 'storageIdentifier': 's3://dvn-cloud:17b2a43a24e-56dce0e64f3c', 'rootDataFileId': -1, 'md5': 'ab4d7152b8008d67594ad097d36f12fd', 'checksum': {'type': 'MD5', 'value': 'ab4d7152b8008d67594ad097d36f12fd'}, 'creationDate': '2021-08-09'}}]}}\n",
      "../finding-couples/output/nagaland_exact_match_lev_0.csv.gz\n",
      "{'status': 'OK', 'data': {'files': [{'description': '', 'label': 'nagaland_exact_match_lev_0.csv.gz', 'restricted': False, 'version': 1, 'datasetVersionId': 262173, 'dataFile': {'id': 4967329, 'persistentId': '', 'pidURL': '', 'filename': 'nagaland_exact_match_lev_0.csv.gz', 'contentType': 'application/gzip', 'filesize': 3296977, 'description': '', 'storageIdentifier': 's3://dvn-cloud:17b2a43af9f-18f122c66d0b', 'rootDataFileId': -1, 'md5': 'eed6192ac13166e18b5127432ea14786', 'checksum': {'type': 'MD5', 'value': 'eed6192ac13166e18b5127432ea14786'}, 'creationDate': '2021-08-09'}}]}}\n",
      "../finding-couples/output/odisha_exact_match_lev_0.csv.gz\n",
      "{'status': 'OK', 'data': {'files': [{'description': '', 'label': 'odisha_exact_match_lev_0.csv.gz', 'restricted': False, 'version': 1, 'datasetVersionId': 262173, 'dataFile': {'id': 4967330, 'persistentId': '', 'pidURL': '', 'filename': 'odisha_exact_match_lev_0.csv.gz', 'contentType': 'application/gzip', 'filesize': 17144406, 'description': '', 'storageIdentifier': 's3://dvn-cloud:17b2a43b90e-00d1bb4e50d8', 'rootDataFileId': -1, 'md5': '4e3c5f34210d10e4c27d85f09b80d232', 'checksum': {'type': 'MD5', 'value': '4e3c5f34210d10e4c27d85f09b80d232'}, 'creationDate': '2021-08-09'}}]}}\n",
      "../finding-couples/output/puducherry_exact_match_lev_0.csv.gz\n",
      "{'status': 'OK', 'data': {'files': [{'description': '', 'label': 'puducherry_exact_match_lev_0.csv.gz', 'restricted': False, 'version': 1, 'datasetVersionId': 262173, 'dataFile': {'id': 4967331, 'persistentId': '', 'pidURL': '', 'filename': 'puducherry_exact_match_lev_0.csv.gz', 'contentType': 'application/gzip', 'filesize': 4388687, 'description': '', 'storageIdentifier': 's3://dvn-cloud:17b2a43c197-53d12bbb2d7f', 'rootDataFileId': -1, 'md5': '0fd6ac8153eb429bae1535fdb656de3d', 'checksum': {'type': 'MD5', 'value': '0fd6ac8153eb429bae1535fdb656de3d'}, 'creationDate': '2021-08-09'}}]}}\n",
      "../finding-couples/output/punjab_exact_match_lev_0.csv.gz\n",
      "{'status': 'OK', 'data': {'files': [{'description': '', 'label': 'punjab_exact_match_lev_0.csv.gz', 'restricted': False, 'version': 1, 'datasetVersionId': 262173, 'dataFile': {'id': 4967332, 'persistentId': '', 'pidURL': '', 'filename': 'punjab_exact_match_lev_0.csv.gz', 'contentType': 'application/gzip', 'filesize': 77356304, 'description': '', 'storageIdentifier': 's3://dvn-cloud:17b2a43cfc5-6e6f465895ba', 'rootDataFileId': -1, 'md5': '2ac43a134721320c67a934a1b26a68ae', 'checksum': {'type': 'MD5', 'value': '2ac43a134721320c67a934a1b26a68ae'}, 'creationDate': '2021-08-09'}}]}}\n",
      "../finding-couples/output/rajasthan_exact_match_lev_0.csv.gz\n",
      "{'status': 'OK', 'data': {'files': [{'description': '', 'label': 'rajasthan_exact_match_lev_0.csv.gz', 'restricted': False, 'version': 1, 'datasetVersionId': 262173, 'dataFile': {'id': 4967333, 'persistentId': '', 'pidURL': '', 'filename': 'rajasthan_exact_match_lev_0.csv.gz', 'contentType': 'application/gzip', 'filesize': 228257847, 'description': '', 'storageIdentifier': 's3://dvn-cloud:17b2a43ed4c-f9056ee2d427', 'rootDataFileId': -1, 'md5': 'c08eb8f98acdf5948cb389b75f2c52fb', 'checksum': {'type': 'MD5', 'value': 'c08eb8f98acdf5948cb389b75f2c52fb'}, 'creationDate': '2021-08-09'}}]}}\n",
      "../finding-couples/output/sikkim_exact_match_lev_0.csv.gz\n",
      "{'status': 'OK', 'data': {'files': [{'description': '', 'label': 'sikkim_exact_match_lev_0.csv.gz', 'restricted': False, 'version': 1, 'datasetVersionId': 262173, 'dataFile': {'id': 4967334, 'persistentId': '', 'pidURL': '', 'filename': 'sikkim_exact_match_lev_0.csv.gz', 'contentType': 'application/gzip', 'filesize': 333435, 'description': '', 'storageIdentifier': 's3://dvn-cloud:17b2a43fc2d-a947dc2d2429', 'rootDataFileId': -1, 'md5': 'b232348c36c5d7111b6da1d47b96da46', 'checksum': {'type': 'MD5', 'value': 'b232348c36c5d7111b6da1d47b96da46'}, 'creationDate': '2021-08-09'}}]}}\n",
      "../finding-couples/output/tripura_exact_match_lev_0.csv.gz\n",
      "{'status': 'OK', 'data': {'files': [{'description': '', 'label': 'tripura_exact_match_lev_0.csv.gz', 'restricted': False, 'version': 1, 'datasetVersionId': 262173, 'dataFile': {'id': 4967335, 'persistentId': '', 'pidURL': '', 'filename': 'tripura_exact_match_lev_0.csv.gz', 'contentType': 'application/gzip', 'filesize': 9459260, 'description': '', 'storageIdentifier': 's3://dvn-cloud:17b2a44074c-23f5a8ddccc6', 'rootDataFileId': -1, 'md5': 'f85a117aa59b9f9acd920e568e60f83e', 'checksum': {'type': 'MD5', 'value': 'f85a117aa59b9f9acd920e568e60f83e'}, 'creationDate': '2021-08-09'}}]}}\n",
      "../finding-couples/output/up_exact_match_lev_0.csv.gz\n",
      "{'status': 'OK', 'data': {'files': [{'description': '', 'label': 'up_exact_match_lev_0.csv.gz', 'restricted': False, 'version': 1, 'datasetVersionId': 262173, 'dataFile': {'id': 4967337, 'persistentId': '', 'pidURL': '', 'filename': 'up_exact_match_lev_0.csv.gz', 'contentType': 'application/gzip', 'filesize': 579284694, 'description': '', 'storageIdentifier': 's3://dvn-cloud:17b2a444255-e11085d40aa3', 'rootDataFileId': -1, 'md5': '3c03eacd1774ef731d44a3b4a9c3c73c', 'checksum': {'type': 'MD5', 'value': '3c03eacd1774ef731d44a3b4a9c3c73c'}, 'creationDate': '2021-08-09'}}]}}\n",
      "../finding-couples/output/uttarakhand_exact_match_lev_0.csv.gz\n",
      "{'status': 'OK', 'data': {'files': [{'description': '', 'label': 'uttarakhand_exact_match_lev_0.csv.gz', 'restricted': False, 'version': 1, 'datasetVersionId': 262173, 'dataFile': {'id': 4967338, 'persistentId': '', 'pidURL': '', 'filename': 'uttarakhand_exact_match_lev_0.csv.gz', 'contentType': 'application/gzip', 'filesize': 32920364, 'description': '', 'storageIdentifier': 's3://dvn-cloud:17b2a445e7d-3d4441db4387', 'rootDataFileId': -1, 'md5': '98551bc86727bf0b850174dcccdfd671', 'checksum': {'type': 'MD5', 'value': '98551bc86727bf0b850174dcccdfd671'}, 'creationDate': '2021-08-09'}}]}}\n"
     ]
    }
   ],
   "source": [
    "for fn in fns:\n",
    "    print(fn)\n",
    "    resp = api.upload_file(doi, fn)\n",
    "    print(resp)"
   ]
  },
  {
   "cell_type": "code",
   "execution_count": null,
   "metadata": {},
   "outputs": [],
   "source": []
  }
 ],
 "metadata": {
  "kernelspec": {
   "display_name": "Python 3",
   "language": "python",
   "name": "python3"
  },
  "language_info": {
   "codemirror_mode": {
    "name": "ipython",
    "version": 3
   },
   "file_extension": ".py",
   "mimetype": "text/x-python",
   "name": "python",
   "nbconvert_exporter": "python",
   "pygments_lexer": "ipython3",
   "version": "3.9.5"
  }
 },
 "nbformat": 4,
 "nbformat_minor": 2
}
